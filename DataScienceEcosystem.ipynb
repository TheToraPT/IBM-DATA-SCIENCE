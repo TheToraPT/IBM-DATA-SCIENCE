{
 "cells": [
  {
   "cell_type": "markdown",
   "id": "4f6b28fc-ff7f-4e6b-b84a-b8c29d7e2a58",
   "metadata": {},
   "source": [
    "# Data Science Tools and Ecosystem"
   ]
  },
  {
   "cell_type": "markdown",
   "id": "fd4e9651-5981-4e4d-a821-be9013d2c81b",
   "metadata": {},
   "source": [
    "In this notebook, Data Science Tools and Ecosystem are summarized."
   ]
  },
  {
   "cell_type": "markdown",
   "id": "a23d8cd2-632d-44a2-889f-96ce433e6dc9",
   "metadata": {},
   "source": [
    "**Objectives:**\n",
    "- Listing popular languages used in Data Science;\n",
    "- Listing some commonly used libraries in Data Science; \n",
    "- Listing somo Data Science tools;\n",
    "- How to express simple arithmetic expressions in python; \n",
    "- How to use tables in markdown cells;"
   ]
  },
  {
   "cell_type": "markdown",
   "id": "24529d5a-1a51-42fb-996e-2fdcc8e0c168",
   "metadata": {},
   "source": [
    "Some of the popular languages that Data Scientists use are:\n",
    "1. Python\n",
    "2. SQL\n",
    "3. R"
   ]
  },
  {
   "cell_type": "markdown",
   "id": "797ab1d6-4432-4af3-b8ee-9819eecb70dc",
   "metadata": {},
   "source": [
    "Some of the commonly used libraries used by Data Scientists include:\n",
    "1. TensorFlow\n",
    "2. NumPy\n",
    "3. Matplotlib\n"
   ]
  },
  {
   "cell_type": "markdown",
   "id": "0a628f41-253f-407f-80cf-db28919ffae5",
   "metadata": {},
   "source": [
    "| Data Science Tools |\n",
    "| --- |\n",
    "|ggplot2|\n",
    "|Apache Hadoop|\n",
    "|Spark|"
   ]
  },
  {
   "cell_type": "markdown",
   "id": "81961e10-badf-4af9-9dbb-c62201fa77c3",
   "metadata": {},
   "source": [
    "### Below are a few examples of evaluating arithmetic expressions in Python.\n",
    "a=2;\n",
    "b=4;\n",
    "c=a*b; (c=8)\n",
    "d=c+b; (d=6)"
   ]
  },
  {
   "cell_type": "code",
   "execution_count": 1,
   "id": "096cc7a8-ffb8-4c7b-a368-9923e2b9fe21",
   "metadata": {},
   "outputs": [
    {
     "data": {
      "text/plain": [
       "17"
      ]
     },
     "execution_count": 1,
     "metadata": {},
     "output_type": "execute_result"
    }
   ],
   "source": [
    "#This a simple arithmetic expression to mutiply then add integers\n",
    "(3*4)+5"
   ]
  },
  {
   "cell_type": "code",
   "execution_count": 2,
   "id": "302582ee-60fe-44be-8df2-3a57f8877754",
   "metadata": {},
   "outputs": [
    {
     "name": "stdout",
     "output_type": "stream",
     "text": [
      "200 minutes equals to 3.3333333333333335 hours\n"
     ]
    }
   ],
   "source": [
    "#This will convert 200 minutes to hours by diving by 60\n",
    "min=200;\n",
    "hours=min/60;\n",
    "print(\"200 minutes equals to\", hours, \"hours\");"
   ]
  },
  {
   "cell_type": "markdown",
   "id": "8fdd0d83-24d3-4c90-b632-a53e0e96363f",
   "metadata": {},
   "source": [
    "## Author:\n",
    "Ana Pereira"
   ]
  },
  {
   "cell_type": "code",
   "execution_count": null,
   "id": "65b71d5b-b730-4e85-ad69-00aade02883e",
   "metadata": {},
   "outputs": [],
   "source": []
  }
 ],
 "metadata": {
  "kernelspec": {
   "display_name": "Python",
   "language": "python",
   "name": "conda-env-python-py"
  },
  "language_info": {
   "codemirror_mode": {
    "name": "ipython",
    "version": 3
   },
   "file_extension": ".py",
   "mimetype": "text/x-python",
   "name": "python",
   "nbconvert_exporter": "python",
   "pygments_lexer": "ipython3",
   "version": "3.7.12"
  }
 },
 "nbformat": 4,
 "nbformat_minor": 5
}
