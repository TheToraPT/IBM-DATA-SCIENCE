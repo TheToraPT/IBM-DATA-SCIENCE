{
 "cells": [
  {
   "cell_type": "markdown",
   "metadata": {},
   "source": [
    "<center>\n",
    "    <img src=\"https://cf-courses-data.s3.us.cloud-object-storage.appdomain.cloud/IBMDeveloperSkillsNetwork-DS0105EN-SkillsNetwork/labs/Module2/images/SN_web_lightmode.png\" width=\"300\" alt=\"cognitiveclass.ai logo\">\n",
    "</center>\n"
   ]
  },
  {
   "cell_type": "markdown",
   "metadata": {
    "tags": []
   },
   "source": [
    "# My Jupyter Notebook on IBM Watson Studio"
   ]
  },
  {
   "cell_type": "markdown",
   "metadata": {},
   "source": [
    "Hello everybody! My name is **Ana** and I am currently a Biomedical Engineering student."
   ]
  },
  {
   "cell_type": "markdown",
   "metadata": {},
   "source": [
    "*The reason i want to learn data science is to broaden my horizons and gain extra skills that can help me pursue other areas in the future.*"
   ]
  },
  {
   "cell_type": "markdown",
   "metadata": {},
   "source": [
    "### So in the cell below I've written a simple and funny code that will ask you for your name and associate it with a variable called \"name\". In turn, a message will be printed greeting you according to the name you gave."
   ]
  },
  {
   "cell_type": "code",
   "execution_count": 3,
   "metadata": {},
   "outputs": [
    {
     "name": "stdin",
     "output_type": "stream",
     "text": [
      "Hello peer student, what's ur name? Ana \n"
     ]
    },
    {
     "name": "stdout",
     "output_type": "stream",
     "text": [
      "Oh hello Ana \n"
     ]
    }
   ],
   "source": [
    "name=str(input(\"Hello peer student, what's ur name?\"));\n",
    "print(\"Oh hello\",name);"
   ]
  },
  {
   "cell_type": "markdown",
   "metadata": {},
   "source": [
    "**Matching your mode** \n",
    "\n",
    "----\n",
    "\n",
    "|My mode is:|Unmotivated|Happy|Sad|\n",
    "|---|---|---|---|\n",
    "| | [U can do it!](https://media.tenor.com/ZpWIgnTC1dQAAAAC/shia-la-beouf-just-do-it.gif) |[oh yeh :) me too](https://i.gifer.com/tiJ.gif) |[Poor little dude](https://media.tenor.com/Iv_VdskDTEYAAAAC/sad-upset.gif)|"
   ]
  },
  {
   "cell_type": "code",
   "execution_count": null,
   "metadata": {},
   "outputs": [],
   "source": []
  }
 ],
 "metadata": {
  "kernelspec": {
   "display_name": "Python",
   "language": "python",
   "name": "conda-env-python-py"
  },
  "language_info": {
   "codemirror_mode": {
    "name": "ipython",
    "version": 3
   },
   "file_extension": ".py",
   "mimetype": "text/x-python",
   "name": "python",
   "nbconvert_exporter": "python",
   "pygments_lexer": "ipython3",
   "version": "3.7.12"
  }
 },
 "nbformat": 4,
 "nbformat_minor": 4
}
